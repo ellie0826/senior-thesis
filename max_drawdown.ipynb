{
 "cells": [
  {
   "cell_type": "code",
   "execution_count": 2,
   "metadata": {},
   "outputs": [
    {
     "name": "stdout",
     "output_type": "stream",
     "text": [
      "[*********************100%%**********************]  1 of 1 completed\n",
      "[*********************100%%**********************]  1 of 1 completed\n",
      "Maximum Drawdown: -26.22%\n"
     ]
    }
   ],
   "source": [
    "import yfinance as yf\n",
    "import pandas as pd\n",
    "\n",
    "# Fetch historical data for SPY and TLT\n",
    "start_date = \"2015-01-01\"\n",
    "interval = \"1mo\"\n",
    "spy = yf.download('SPY', start=start_date, interval=interval)['Adj Close']\n",
    "tlt = yf.download('TLT', start=start_date, interval=interval)['Adj Close']\n",
    "\n",
    "# Calculate daily portfolio returns with a 60/40 allocation\n",
    "portfolio_returns = 0.6 * spy.pct_change() + 0.4 * tlt.pct_change()\n",
    "\n",
    "# Calculate cumulative returns and the cumulative max to date\n",
    "cumulative_returns = (1 + portfolio_returns).cumprod()\n",
    "cumulative_max = cumulative_returns.cummax()\n",
    "\n",
    "# Calculate drawdowns and the maximum drawdown\n",
    "drawdowns = (cumulative_returns - cumulative_max) / cumulative_max\n",
    "max_drawdown = drawdowns.min()\n",
    "\n",
    "print(f\"Maximum Drawdown: {max_drawdown*100:.2f}%\")\n"
   ]
  }
 ],
 "metadata": {
  "kernelspec": {
   "display_name": "regime-detection",
   "language": "python",
   "name": "python3"
  },
  "language_info": {
   "codemirror_mode": {
    "name": "ipython",
    "version": 3
   },
   "file_extension": ".py",
   "mimetype": "text/x-python",
   "name": "python",
   "nbconvert_exporter": "python",
   "pygments_lexer": "ipython3",
   "version": "3.9.12"
  }
 },
 "nbformat": 4,
 "nbformat_minor": 2
}
