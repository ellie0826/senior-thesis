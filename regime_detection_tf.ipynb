{
 "cells": [
  {
   "cell_type": "code",
   "execution_count": 1,
   "metadata": {},
   "outputs": [
    {
     "name": "stderr",
     "output_type": "stream",
     "text": [
      "/Users/elliebae/Documents/Senior Thesis/senior-thesis-1/regime_detection_tf.py:174: SyntaxWarning: invalid escape sequence '\\l'\n",
      "  ax.set_title(f'$\\lambda$={lambd:.2f}', fontsize=16)\n"
     ]
    },
    {
     "ename": "ModuleNotFoundError",
     "evalue": "No module named 'sklearn'",
     "output_type": "error",
     "traceback": [
      "\u001b[0;31m---------------------------------------------------------------------------\u001b[0m",
      "\u001b[0;31mModuleNotFoundError\u001b[0m                       Traceback (most recent call last)",
      "Cell \u001b[0;32mIn[1], line 2\u001b[0m\n\u001b[1;32m      1\u001b[0m \u001b[38;5;28;01mfrom\u001b[39;00m \u001b[38;5;21;01mexploratory_data_analysis\u001b[39;00m \u001b[38;5;28;01mimport\u001b[39;00m financial_data\n\u001b[0;32m----> 2\u001b[0m \u001b[38;5;28;01mfrom\u001b[39;00m \u001b[38;5;21;01mregime_detection_tf\u001b[39;00m \u001b[38;5;28;01mimport\u001b[39;00m regime_detection_tf\n\u001b[1;32m      4\u001b[0m \u001b[38;5;66;03m# # # Use yfinance to fetch data\u001b[39;00m\n\u001b[1;32m      5\u001b[0m ticker \u001b[38;5;241m=\u001b[39m \u001b[38;5;124m\"\u001b[39m\u001b[38;5;124m^SPGSCI\u001b[39m\u001b[38;5;124m\"\u001b[39m\n",
      "File \u001b[0;32m~/Documents/Senior Thesis/senior-thesis-1/regime_detection_tf.py:8\u001b[0m\n\u001b[1;32m      6\u001b[0m \u001b[38;5;28;01mimport\u001b[39;00m \u001b[38;5;21;01mnumpy\u001b[39;00m \u001b[38;5;28;01mas\u001b[39;00m \u001b[38;5;21;01mnp\u001b[39;00m\n\u001b[1;32m      7\u001b[0m \u001b[38;5;28;01mimport\u001b[39;00m \u001b[38;5;21;01mpandas\u001b[39;00m \u001b[38;5;28;01mas\u001b[39;00m \u001b[38;5;21;01mpd\u001b[39;00m\n\u001b[0;32m----> 8\u001b[0m \u001b[38;5;28;01mfrom\u001b[39;00m \u001b[38;5;21;01msklearn\u001b[39;00m\u001b[38;5;21;01m.\u001b[39;00m\u001b[38;5;21;01mmodel_selection\u001b[39;00m \u001b[38;5;28;01mimport\u001b[39;00m TimeSeriesSplit\n\u001b[1;32m      9\u001b[0m \u001b[38;5;28;01mimport\u001b[39;00m \u001b[38;5;21;01mmatplotlib\u001b[39;00m\u001b[38;5;21;01m.\u001b[39;00m\u001b[38;5;21;01mpyplot\u001b[39;00m \u001b[38;5;28;01mas\u001b[39;00m \u001b[38;5;21;01mplt\u001b[39;00m\n\u001b[1;32m     10\u001b[0m \u001b[38;5;28;01mfrom\u001b[39;00m \u001b[38;5;21;01mitertools\u001b[39;00m \u001b[38;5;28;01mimport\u001b[39;00m groupby\n",
      "\u001b[0;31mModuleNotFoundError\u001b[0m: No module named 'sklearn'"
     ]
    }
   ],
   "source": [
    "from exploratory_data_analysis import financial_data\n",
    "from regime_detection_tf import regime_detection_tf\n",
    "\n",
    "# # # Use yfinance to fetch data\n",
    "ticker = \"^SPGSCI\"\n",
    "start_date = \"1991-05-01\"\n",
    "interval = \"1mo\"\n",
    "\n",
    "# ticker = \"DBC\"\n",
    "# start_date = \"2006-02-03\"\n",
    "\n",
    "gsci = financial_data(ticker, start_date, interval)\n",
    "lambda_vals = [0.04, 0.08, 0.12, 0.16, 0.20, 0.24, 0.28, 0.32]\n",
    "model_gsci = regime_detection_tf(gsci, lambda_vals)\n",
    "# model_gsci.run_model(tuning=True)\n",
    "model_gsci.plot_lambdas()\n"
   ]
  }
 ],
 "metadata": {
  "kernelspec": {
   "display_name": "Python 3",
   "language": "python",
   "name": "python3"
  },
  "language_info": {
   "codemirror_mode": {
    "name": "ipython",
    "version": 3
   },
   "file_extension": ".py",
   "mimetype": "text/x-python",
   "name": "python",
   "nbconvert_exporter": "python",
   "pygments_lexer": "ipython3",
   "version": "3.12.0"
  }
 },
 "nbformat": 4,
 "nbformat_minor": 2
}
